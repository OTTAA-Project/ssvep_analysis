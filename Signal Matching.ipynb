{
 "cells": [
  {
   "cell_type": "markdown",
   "id": "32dfdc86",
   "metadata": {},
   "source": [
    "## Signal Analysis\n",
    "This script is aimed to analyze the signals proposed for BCI usage for the MACI proposal."
   ]
  },
  {
   "cell_type": "code",
   "execution_count": null,
   "id": "300d6e5c",
   "metadata": {},
   "outputs": [],
   "source": [
    "import os\n",
    "import time\n",
    "import numpy as np\n",
    "import matplotlib.pyplot as plt\n",
    "import pandas as pd\n",
    "import seaborn as sns\n",
    "import scipy.signal as sgn\n",
    "import scipy.stats as sta\n",
    "\n",
    "from Signal import Signal\n",
    "from Dataset import Dataset"
   ]
  },
  {
   "cell_type": "code",
   "execution_count": null,
   "id": "c3a4618c",
   "metadata": {},
   "outputs": [],
   "source": [
    "PATH = './stim_23'\n",
    "PATH_RAW = os.path.join(PATH, 'train_data')\n",
    "PATH_FVS = os.path.join(PATH, 'fv_data')\n",
    "PATH_RESULT = os.path.join(PATH, 'results')\n",
    "if not os.path.exists(PATH_FVS):\n",
    "    os.mkdir(PATH_FVS)\n",
    "\n",
    "SF = 200\n",
    "\n",
    "ORDER = 4\n",
    "BP_LO = 4\n",
    "BP_HI = 50\n",
    "NOTCH = 50\n",
    "\n",
    "WINDOW = 512\n",
    "STRIDE = 1\n",
    "\n",
    "FREQ = 23 #freq none takes it from the file name\n",
    "BW = 1\n",
    "HARMS = [1, 2]\n",
    "APPLY_SNR = True\n",
    "\n",
    "LAB_RELS = {\n",
    "    99: 0,\n",
    "    1: 1,\n",
    "    2: 2\n",
    "}\n",
    "\n",
    "SOURCE = 'freq'\n",
    "\n",
    "CHANNELS = None\n",
    "SUBJECTS = None\n",
    "SESSIONS = None\n",
    "LABELS = None"
   ]
  },
  {
   "cell_type": "markdown",
   "id": "a18b3fb1",
   "metadata": {},
   "source": [
    "## Matching\n",
    "The idea is to match the features from stimulation to others both in no stimulation and noise"
   ]
  },
  {
   "cell_type": "code",
   "execution_count": null,
   "id": "c85c8800",
   "metadata": {},
   "outputs": [],
   "source": [
    "sig = Signal('test', 1, '2020-20-20')\n",
    "sig.load_raw(os.path.join(PATH_RAW, 'HC 4 23Hz 2021-04-21.txt'), LAB_RELS)\n",
    "sig.process(SF, ORDER, BP_LO, BP_HI, NOTCH)\n",
    "sig.make_fvs(SF, WINDOW, STRIDE, FREQ, BW, HARMS, APPLY_SNR)\n",
    "\n",
    "labels = sig.get_Y()"
   ]
  },
  {
   "cell_type": "code",
   "execution_count": null,
   "id": "ceb87a42",
   "metadata": {},
   "outputs": [],
   "source": [
    "def match_pattern(X, y, thresh = 0.8):\n",
    "    matches = {}\n",
    "    index = np.arange(X.shape[0])\n",
    "    label_mask = y[:, 1] == 1.0\n",
    "    for j, feat in zip(index[label_mask], X[label_mask]):\n",
    "        window_mask = ~label_mask\n",
    "        window_mask[j:j+512] = False\n",
    "        corrs = np.apply_along_axis(lambda x: sta.spearmanr(x, feat)[0], 1, X[window_mask])\n",
    "        for i, corr in zip(index[window_mask], corrs):\n",
    "            if abs(corr) >= thresh:\n",
    "                corr_dist = corr * abs(i-j) / X.shape[0]\n",
    "                try:\n",
    "                    if matches[i] < corr_dist:\n",
    "                        matches[i] = round(abs(corr_dist), 2)\n",
    "                except KeyError:\n",
    "                    matches[i] = corr_dist         \n",
    "\n",
    "    return list(matches.items())"
   ]
  },
  {
   "cell_type": "code",
   "execution_count": null,
   "id": "375d16d2",
   "metadata": {
    "scrolled": false
   },
   "outputs": [],
   "source": [
    "times = sig.get_time_X(CHANNELS, LABELS)\n",
    "dataframe = pd.DataFrame(columns=[\"ch\", \"pos\", \"corr\", \"count\", \"to_reduce\"])\n",
    "for ch in sig.get_chans():\n",
    "    matches = match_pattern(times[ch][2000:6000], labels[2000:6000])\n",
    "    matches_data = []\n",
    "    if len(matches) > 0:\n",
    "        join_value = matches[0][0]\n",
    "        matches_data.append((ch, matches[0][0], matches[0][1], 1, f'{join_value}{ch}'))\n",
    "        for i in range(1, len(matches)):\n",
    "            if abs(matches[i][0] - matches[i-1][0]) > 32: #joins on reduce if two highly correlated value are 8 samples appart\n",
    "                join_value = matches[i][0]\n",
    "            matches_data.append((ch, matches[i][0], matches[i][1], 1, f'{join_value}{ch}'))\n",
    "    dataframe = pd.concat((dataframe, pd.DataFrame(matches_data, columns = dataframe.columns)))\n",
    "\n",
    "fig, axs = plt.subplots(1, 1)\n",
    "fig.set_figheight(5)\n",
    "fig.set_figwidth(10)\n",
    "axs.set_xlim((1500, 4000))\n",
    "axs.set_xlabel(\"signal samples\", fontsize=12)\n",
    "axs.set_ylabel(\"ch\", fontsize=12)\n",
    "suptitle = fig.suptitle(f'Matches for S2', fontsize=15)\n",
    "#grouping values with similar positions, by moving position back one order of magnitude (/100) and grouping rows with same pos\n",
    "dataframe_reduced = dataframe.groupby(dataframe[\"to_reduce\"]).aggregate({'corr': 'max', 'ch': 'first', 'pos': 'first', 'count': 'sum'})\n",
    "sns.scatterplot(dataframe_reduced, x=\"pos\", y=\"ch\", hue=\"corr\", size=\"count\", sizes=(50, 250), ax=axs)\n",
    "\n",
    "plt.savefig(os.path.join(PATH_RESULT, suptitle.get_text()))"
   ]
  }
 ],
 "metadata": {
  "kernelspec": {
   "display_name": "Python 3 (ipykernel)",
   "language": "python",
   "name": "python3"
  },
  "language_info": {
   "codemirror_mode": {
    "name": "ipython",
    "version": 3
   },
   "file_extension": ".py",
   "mimetype": "text/x-python",
   "name": "python",
   "nbconvert_exporter": "python",
   "pygments_lexer": "ipython3",
   "version": "3.9.7"
  }
 },
 "nbformat": 4,
 "nbformat_minor": 5
}
